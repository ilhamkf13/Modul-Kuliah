{
 "cells": [
  {
   "cell_type": "code",
   "execution_count": 13,
   "metadata": {},
   "outputs": [
    {
     "name": "stdout",
     "output_type": "stream",
     "text": [
      "Pilihan Kelas Kamar:\n",
      "1. Kelas 1 (Harga ruang inap Rp 800.000)\n",
      "2. Kelas 2 (Harga ruang inap Rp 500.000)\n",
      "3. Kelas 3 (Harga ruang inap Rp 200.000)\n",
      "===== Data Pembayaran =====\n",
      "Nama Pasien: Slamet\n",
      "Alamat Pasien: Magelang\n",
      "Lama Inap : 4 hari\n",
      "Jenis Kamar: 1\n",
      "Harga Ruang Inap per Hari: Rp 800000\n",
      "Keanggotaan BPJS Kesehatan: y\n",
      "Potongan Harga BPJS Kesehatan: Rp 120000.0\n",
      "Total Biaya yang Harus Dibayarkan: Rp 2720000.0\n"
     ]
    }
   ],
   "source": [
    "namapasien = input(\"Masukkan nama pasien: \")\n",
    "alamatpasien = input(\"Masukkan alamat pasien: \")\n",
    "keanggotaanbpjs = input(\"Apakah pasien memiliki keanggotaan BPJS Kesehatan? (Y/N): \")\n",
    "lamainap = int(input(\"Masukkan lama inap (hari): \"))\n",
    "print(\"Pilihan Kelas Kamar:\")\n",
    "print(\"1. Kelas 1 (Harga ruang inap Rp 800.000)\")\n",
    "print(\"2. Kelas 2 (Harga ruang inap Rp 500.000)\")\n",
    "print(\"3. Kelas 3 (Harga ruang inap Rp 200.000)\")\n",
    "kelaskamar = int(input(\"Masukkan pilihan jenis kamar (1/2/3): \"))\n",
    "\n",
    "\n",
    "if kelaskamar == 1:\n",
    "    harga = 800000\n",
    "elif kelaskamar == 2:\n",
    "    harga = 500000\n",
    "elif kelaskamar == 3:\n",
    "    harga = 200000\n",
    "else:\n",
    "    print(\"Pilihan kelas kamar tidak valid\")\n",
    "    exit()\n",
    "\n",
    "\n",
    "if keanggotaanbpjs.upper() == \"Y\":\n",
    "    potonganharga = 0.15 * harga\n",
    "else:\n",
    "    potonganharga = 0\n",
    "\n",
    "\n",
    "totalbiaya = (harga - potonganharga) * lamainap\n",
    "\n",
    "\n",
    "print(\"===== Data Pembayaran =====\")\n",
    "print(\"Nama Pasien:\", namapasien)\n",
    "print(\"Alamat Pasien:\", alamatpasien)\n",
    "print(\"Lama Inap :\", lamainap, \"hari\")\n",
    "print(\"Jenis Kamar:\", kelaskamar)\n",
    "print(\"Harga Ruang Inap per Hari: Rp\", harga)\n",
    "print(\"Keanggotaan BPJS Kesehatan:\", keanggotaanbpjs)\n",
    "print(\"Potongan Harga BPJS Kesehatan: Rp\", potonganharga)\n",
    "print(\"Total Biaya yang Harus Dibayarkan: Rp\", totalbiaya)\n"
   ]
  }
 ],
 "metadata": {
  "kernelspec": {
   "display_name": "Python 3",
   "language": "python",
   "name": "python3"
  },
  "language_info": {
   "codemirror_mode": {
    "name": "ipython",
    "version": 3
   },
   "file_extension": ".py",
   "mimetype": "text/x-python",
   "name": "python",
   "nbconvert_exporter": "python",
   "pygments_lexer": "ipython3",
   "version": "3.10.11"
  },
  "orig_nbformat": 4
 },
 "nbformat": 4,
 "nbformat_minor": 2
}
