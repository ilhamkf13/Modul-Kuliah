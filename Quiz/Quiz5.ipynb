{
 "cells": [
  {
   "cell_type": "code",
   "execution_count": 11,
   "metadata": {},
   "outputs": [
    {
     "name": "stdout",
     "output_type": "stream",
     "text": [
      "Username tidak ditemukan!\n"
     ]
    }
   ],
   "source": [
    "# Quiz 1 Week 5\n",
    "username = input(str('Masukkan Username Anda : '))\n",
    "password = input(str('Password: '))\n",
    "\n",
    "if username == 'admin':\n",
    "    if password == 'password':\n",
    "        print('Berhasil login sebagai Admin')\n",
    "    elif password == '12345':\n",
    "        print('rubah kata sandi anda, kata sandi anda terlalu lemah!')\n",
    "    else :\n",
    "        print(\"Username dan Password Salah\")\n",
    "    \n",
    "elif username == 'guest':\n",
    "    if password == 'guest':\n",
    "        print('Berhasil login sebagai Guest')\n",
    "    else :\n",
    "        print(\"Maaf Password Salah\")\n",
    "\n",
    "else :\n",
    "    print(\"Username tidak ditemukan!\")"
   ]
  },
  {
   "cell_type": "code",
   "execution_count": 17,
   "metadata": {},
   "outputs": [
    {
     "name": "stdout",
     "output_type": "stream",
     "text": [
      "Bilangan negatif\n"
     ]
    }
   ],
   "source": [
    "# Quiz 2 Weekly 5\n",
    "bilangan = float(input(\"Masukkan angka : \"))\n",
    "if bilangan % 1 == 0:\n",
    "    if bilangan > 0:\n",
    "        if bilangan % 2 == 0:\n",
    "            print(\"bilangan genap\")\n",
    "        else :\n",
    "            print(\"bilangan ganjil\")\n",
    "    \n",
    "    elif bilangan < 0:\n",
    "        print (\"Bilangan negatif\")\n",
    "\n",
    "    elif bilangan == 0:\n",
    "        print('Angka nol')\n",
    "else : \n",
    "    print(\"Bukan bilangan bulat\")\n",
    "\n",
    "    "
   ]
  }
 ],
 "metadata": {
  "kernelspec": {
   "display_name": "Python 3",
   "language": "python",
   "name": "python3"
  },
  "language_info": {
   "codemirror_mode": {
    "name": "ipython",
    "version": 3
   },
   "file_extension": ".py",
   "mimetype": "text/x-python",
   "name": "python",
   "nbconvert_exporter": "python",
   "pygments_lexer": "ipython3",
   "version": "3.10.11"
  },
  "orig_nbformat": 4
 },
 "nbformat": 4,
 "nbformat_minor": 2
}
