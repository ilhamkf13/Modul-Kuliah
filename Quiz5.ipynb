{
 "cells": [
  {
   "cell_type": "code",
   "execution_count": 3,
   "metadata": {},
   "outputs": [
    {
     "ename": "NameError",
     "evalue": "name 'username' is not defined",
     "output_type": "error",
     "traceback": [
      "\u001b[1;31m---------------------------------------------------------------------------\u001b[0m",
      "\u001b[1;31mNameError\u001b[0m                                 Traceback (most recent call last)",
      "\u001b[1;32mf:\\semester 1\\modul kuliah\\Quiz5.ipynb Cell 1\u001b[0m line \u001b[0;36m4\n\u001b[0;32m      <a href='vscode-notebook-cell:/f%3A/semester%201/modul%20kuliah/Quiz5.ipynb#W1sZmlsZQ%3D%3D?line=0'>1</a>\u001b[0m username : \u001b[39minput\u001b[39m(\u001b[39mstr\u001b[39m(\u001b[39m'\u001b[39m\u001b[39mMasukkan Username Anda : \u001b[39m\u001b[39m'\u001b[39m))\n\u001b[0;32m      <a href='vscode-notebook-cell:/f%3A/semester%201/modul%20kuliah/Quiz5.ipynb#W1sZmlsZQ%3D%3D?line=1'>2</a>\u001b[0m password : \u001b[39minput\u001b[39m(\u001b[39mstr\u001b[39m(\u001b[39m'\u001b[39m\u001b[39mPassword: \u001b[39m\u001b[39m'\u001b[39m))\n\u001b[1;32m----> <a href='vscode-notebook-cell:/f%3A/semester%201/modul%20kuliah/Quiz5.ipynb#W1sZmlsZQ%3D%3D?line=3'>4</a>\u001b[0m \u001b[39mif\u001b[39;00m username \u001b[39m==\u001b[39m \u001b[39m'\u001b[39m\u001b[39madmin\u001b[39m\u001b[39m'\u001b[39m:\n\u001b[0;32m      <a href='vscode-notebook-cell:/f%3A/semester%201/modul%20kuliah/Quiz5.ipynb#W1sZmlsZQ%3D%3D?line=4'>5</a>\u001b[0m     \u001b[39mif\u001b[39;00m password \u001b[39m==\u001b[39m \u001b[39m'\u001b[39m\u001b[39mpassword\u001b[39m\u001b[39m'\u001b[39m:\n\u001b[0;32m      <a href='vscode-notebook-cell:/f%3A/semester%201/modul%20kuliah/Quiz5.ipynb#W1sZmlsZQ%3D%3D?line=5'>6</a>\u001b[0m         \u001b[39mprint\u001b[39m(\u001b[39m'\u001b[39m\u001b[39mBerhasil login sebagai Admin\u001b[39m\u001b[39m'\u001b[39m)\n",
      "\u001b[1;31mNameError\u001b[0m: name 'username' is not defined"
     ]
    }
   ],
   "source": [
    "username : input(str('Masukkan Username Anda : '))\n",
    "password : input(str('Password: '))\n",
    "\n",
    "if username == 'admin':\n",
    "    if password == 'password':\n",
    "        print('Berhasil login sebagai Admin')\n",
    "    elif password == '12345':\n",
    "        print('rubah kata sandi anda, kata sandi anda terlalu lemah!')\n",
    "    else :\n",
    "        print(\"Username dan Password Salah\")\n",
    "    \n",
    "elif username == 'guest':\n",
    "    if password == 'guest':\n",
    "        print('Berhasil login sebagai Guest')\n",
    "    else :\n",
    "        print(\"Maaf Password Salah\")\n",
    "\n",
    "else :\n",
    "    print(\"Username tidak ditemukan!\")"
   ]
  }
 ],
 "metadata": {
  "kernelspec": {
   "display_name": "Python 3",
   "language": "python",
   "name": "python3"
  },
  "language_info": {
   "codemirror_mode": {
    "name": "ipython",
    "version": 3
   },
   "file_extension": ".py",
   "mimetype": "text/x-python",
   "name": "python",
   "nbconvert_exporter": "python",
   "pygments_lexer": "ipython3",
   "version": "3.10.11"
  },
  "orig_nbformat": 4
 },
 "nbformat": 4,
 "nbformat_minor": 2
}
