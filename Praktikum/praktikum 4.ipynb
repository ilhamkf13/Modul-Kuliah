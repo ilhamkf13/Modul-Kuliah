{
 "cells": [
  {
   "cell_type": "code",
   "execution_count": 3,
   "metadata": {},
   "outputs": [
    {
     "name": "stdout",
     "output_type": "stream",
     "text": [
      "Anda boleh membuat sim\n"
     ]
    }
   ],
   "source": [
    "# Weekly exercise 1\n",
    "umur = int(input(\"Masukkan umur anda = \"))\n",
    "if (umur >= 17):\n",
    "    print(\"Anda boleh membuat sim\")\n",
    "else : \n",
    "    print (\"Anda tidak boleh membuat sim\")"
   ]
  },
  {
   "cell_type": "code",
   "execution_count": 8,
   "metadata": {},
   "outputs": [
    {
     "name": "stdout",
     "output_type": "stream",
     "text": [
      "Grade anda adalah  B\n"
     ]
    }
   ],
   "source": [
    "# Weekly exercise 2\n",
    "nilai = float(input(\"Masukkan nilai anda = \"))\n",
    "if nilai >= 90 : \n",
    "    grade = \"A\"\n",
    "elif nilai >= 80 :\n",
    "    grade = \"B+\"\n",
    "elif nilai >= 70 :\n",
    "    grade = \"B\"\n",
    "elif nilai >= 60 :\n",
    "    grade = \"C+\"\n",
    "elif nilai >= 50 :\n",
    "    grade = \"C\"\n",
    "elif nilai >= 40 :\n",
    "    grade = \"D\"\n",
    "else :\n",
    "    grade = \"E\"\n",
    "\n",
    "print(\"Grade anda adalah \",grade)"
   ]
  },
  {
   "cell_type": "code",
   "execution_count": 10,
   "metadata": {},
   "outputs": [
    {
     "name": "stdout",
     "output_type": "stream",
     "text": [
      "Grade anda adalah :  A-\n"
     ]
    }
   ],
   "source": [
    "# Weekly exercise 3\n",
    "nilai = float(input(\"Masukkan nilai anda\"))\n",
    "if 80 <= nilai <= 100:\n",
    "    grade = \"A\"\n",
    "elif 77.50 <= nilai <= 79.99:\n",
    "    grade = \"A-\"\n",
    "elif 75.00 <= nilai <= 77.49:\n",
    "    grade = \"AB\"\n",
    "elif 72.50 <= nilai <= 74.99:\n",
    "    grade = \"B+\"\n",
    "elif 70.00 <= nilai <= 72.49:\n",
    "    grade = \"B\"\n",
    "elif 67.50 <= nilai <= 69.99:\n",
    "    grade = \"B-\"\n",
    "elif 65.00 <= nilai <= 67.49:\n",
    "    grade = \"BC\"\n",
    "elif 62.50 <= nilai <= 64.99:\n",
    "    grade = \"C+\"\n",
    "elif 60.00 <= nilai <= 62.49:\n",
    "    grade = \"C\"\n",
    "elif 55.00 <= nilai <= 59.99:\n",
    "    grade = \"C-\"\n",
    "elif 50.00 <= nilai <= 54.99:\n",
    "    grade = \"CD\"\n",
    "elif 45.00 <= nilai <= 49.99:\n",
    "    grade = \"D+\"\n",
    "elif 40.00 <= nilai <= 44.99:\n",
    "    grade = \"D\"\n",
    "elif nilai < 40:\n",
    "    grade = \"E\"\n",
    "else:\n",
    "    print(\"Nilai tidak valid\")\n",
    "print(\"Grade anda adalah : \",grade)"
   ]
  }
 ],
 "metadata": {
  "kernelspec": {
   "display_name": "Python 3",
   "language": "python",
   "name": "python3"
  },
  "language_info": {
   "codemirror_mode": {
    "name": "ipython",
    "version": 3
   },
   "file_extension": ".py",
   "mimetype": "text/x-python",
   "name": "python",
   "nbconvert_exporter": "python",
   "pygments_lexer": "ipython3",
   "version": "3.10.11"
  },
  "orig_nbformat": 4
 },
 "nbformat": 4,
 "nbformat_minor": 2
}
