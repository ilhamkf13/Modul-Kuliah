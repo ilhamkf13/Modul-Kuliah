{
 "cells": [
  {
   "cell_type": "code",
   "execution_count": 7,
   "metadata": {},
   "outputs": [
    {
     "name": "stdout",
     "output_type": "stream",
     "text": [
      "Luas persegi panjang adalah 105.00\n",
      "Terima kasih! Program selesai.\n"
     ]
    }
   ],
   "source": [
    "# Weekly Exercise 1\n",
    "import matematika\n",
    "\n",
    "while True:\n",
    "    pilihan = input('Pilihan perhitungan: lingkaran/persegi panjang/segitiga/selesai? ')\n",
    "\n",
    "    if pilihan == 'lingkaran':\n",
    "        radius = float(input(\"Masukkan radius = \"))\n",
    "        luas = matematika.lingkaran(radius)\n",
    "        print(f\"Luas lingkaran adalah {luas:.2f}\")\n",
    "    \n",
    "    elif pilihan == 'persegi panjang':\n",
    "        panjang = int(input(\"Masukkan panjang = \"))\n",
    "        lebar = int(input(\"Masukkan lebar = \"))\n",
    "        luas = matematika.persegipanjang(panjang,lebar)\n",
    "        print(f\"Luas persegi panjang adalah {luas:.2f}\")\n",
    "    \n",
    "    elif pilihan == 'segitiga':\n",
    "        alas = int(input(\"Masukkan alas = \"))\n",
    "        tinggi = int(input(\"Masukkan tinggi = \"))\n",
    "        luas = matematika.segitiga(alas,tinggi)\n",
    "        print(f\"Luas segitiga adalah {luas:.2f}\")\n",
    "    \n",
    "    elif pilihan == 'selesai':\n",
    "        konfirmasi = input(\"Anda yakin ingin keluar dari program? (ya/tidak): \")\n",
    "        if konfirmasi == 'ya':\n",
    "            print(\"Terima kasih! Program selesai.\")\n",
    "            break\n",
    "        else:\n",
    "            continue\n",
    "\n",
    "    else :\n",
    "        print(\"Pilihan tidak valid. Silakan pilih lingkaran, persegi, segitiga, atau selesai.\")"
   ]
  },
  {
   "cell_type": "code",
   "execution_count": null,
   "metadata": {},
   "outputs": [],
   "source": [
    "# Weekly Exercise 2\n",
    "import math\n",
    "\n",
    "while True :\n",
    "    pilihan = input('Pilihan perhitungan: akar/pangkat/pembulatan/konversi radian/sinus radian/selesai? ')\n",
    "    \n",
    "    if pilihan == 'akar':\n",
    "        angka = int(input(\"Masukkan bilangan = \"))\n",
    "        akarkuadrat = math.sqrt(angka)\n",
    "        print(f\"Akar kuadrat dari {angka} adalah {akarkuadrat}\")\n",
    "    \n",
    "    elif pilihan == 'pangkat':\n",
    "        basis = int(input(\"Masukkan bilangan basis = \"))\n",
    "        eksponen = int(input(\"Masukkan bilangan eksponensial = \"))\n",
    "        pangkat = math.pow(basis, eksponen)\n",
    "        print(f\"{basis} pangkat {eksponen} = {pangkat}\")\n",
    "    \n",
    "    elif pilihan == 'pembulatan':\n",
    "        desimal = float(input(\"Masukkan bilangan = \"))\n",
    "        pembulatan = math.floor(desimal)\n",
    "        print(f\"Pembulatan dari {desimal} adalah {pembulatan}\")\n",
    "\n",
    "    elif pilihan == 'konversi radian':\n",
    "        sudut = int(input(\"Masukkan besar sudut = \"))\n",
    "        radian1 = math.radians(sudut)\n",
    "        print(f\"{sudut} derajat sama dengan {radian1} radian\")\n",
    "        \n",
    "    elif pilihan == 'sinus radian':\n",
    "        radian2 = int(input(\"Masukkan besar radian = \"))\n",
    "        sinusradian = math.sin(radian2)\n",
    "        print(f\"Sinus {radian2} radian adalah {sinusradian}\")\n",
    "    \n",
    "    elif pilihan == 'selesai':\n",
    "        konfirmasi = input(\"Anda yakin ingin keluar dari program? (ya/tidak): \")\n",
    "        if konfirmasi == 'ya':\n",
    "            print(\"Terima kasih! Program selesai.\")\n",
    "            break\n",
    "        else:\n",
    "            continue\n",
    "    else:\n",
    "        print(\"Pilihan tidak valid. Silakan pilih menu yang tertera / selesaikan program!\")"
   ]
  }
 ],
 "metadata": {
  "kernelspec": {
   "display_name": "Python 3",
   "language": "python",
   "name": "python3"
  },
  "language_info": {
   "codemirror_mode": {
    "name": "ipython",
    "version": 3
   },
   "file_extension": ".py",
   "mimetype": "text/x-python",
   "name": "python",
   "nbconvert_exporter": "python",
   "pygments_lexer": "ipython3",
   "version": "3.10.11"
  }
 },
 "nbformat": 4,
 "nbformat_minor": 2
}
