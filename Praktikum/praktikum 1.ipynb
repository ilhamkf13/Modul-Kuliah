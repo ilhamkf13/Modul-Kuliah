{
 "cells": [
  {
   "cell_type": "code",
   "execution_count": 2,
   "metadata": {},
   "outputs": [
    {
     "name": "stdout",
     "output_type": "stream",
     "text": [
      "Nama            : Ilham Kukuh Febriyansyah\n",
      "\n",
      "NPM             : 2320506043\n",
      "\n",
      "Alamat          : Delik, Grabag, Magelang\n",
      "\n",
      "Tinggi Badan    : 168 cm\n",
      "\n",
      "Berat Badan     : 55 kg\n"
     ]
    }
   ],
   "source": [
    "print (\"Nama            : Ilham Kukuh Febriyansyah\")\n",
    "print ()\n",
    "print (\"NPM             : 2320506043\")\n",
    "print ()\n",
    "print (\"Alamat          : Delik, Grabag, Magelang\")\n",
    "print ()\n",
    "print (\"Tinggi Badan    : 168 cm\")\n",
    "print ()\n",
    "print (\"Berat Badan     : 55 kg\")"
   ]
  },
  {
   "cell_type": "code",
   "execution_count": 3,
   "metadata": {},
   "outputs": [
    {
     "name": "stdout",
     "output_type": "stream",
     "text": [
      "\u001b[1mUNIVERSITAS TIDAR\u001b[0m\n",
      "Universitas Tidar merupakan Perguruan Tinggi Pemerintah atau Perguruan Tinggi Negeri yang telah ditetapkan berdasarkan Peraturan Presiden Republik Indonesia Nomor 23 Tahun 2014 pada tanggal 1 April 2014.\n",
      "\n",
      "\u001b[1mJURUSAN TEKNIK ELEKTRO\u001b[0m\n",
      "Jurusan Teknik Elektro terdiri atas tiga program studi, antara lain:\n",
      "    1. S1 Teknik Elektro \u001b[3m(Bachelor of Electrical Engineering)\u001b[0m\n",
      "    2. S1 Teknologi Informasi \u001b[3m(Bachelor of Information Technology)\u001b[0m\n",
      "    3. S1 Teknik Mekatronika \u001b[3m(Bachelor of Mechatronics Engineering)\u001b[0m\n"
     ]
    }
   ],
   "source": [
    "class Bold:\n",
    "    start = '\\033[1m'\n",
    "    end ='\\033[0m'\n",
    "class Italic:\n",
    "    start = '\\x1B[3m'\n",
    "    end = '\\x1B[0m'\n",
    "\n",
    "print(Bold.start + 'UNIVERSITAS TIDAR' + Bold.end)\n",
    "print('Universitas Tidar merupakan Perguruan Tinggi Pemerintah atau Perguruan Tinggi Negeri yang telah ditetapkan berdasarkan Peraturan Presiden Republik Indonesia Nomor 23 Tahun 2014 pada tanggal 1 April 2014.')\n",
    "print()\n",
    "print(Bold.start + 'JURUSAN TEKNIK ELEKTRO'+ Bold.end)\n",
    "print('Jurusan Teknik Elektro terdiri atas tiga program studi, antara lain:')\n",
    "print('    1. S1 Teknik Elektro ' + Italic.start + '(Bachelor of Electrical Engineering)' + Italic.end )\n",
    "print('    2. S1 Teknologi Informasi ' + Italic.start + '(Bachelor of Information Technology)' + Italic.end)\n",
    "print('    3. S1 Teknik Mekatronika ' + Italic.start + '(Bachelor of Mechatronics Engineering)' + Italic.end)\n"
   ]
  }
 ],
 "metadata": {
  "kernelspec": {
   "display_name": "Python 3",
   "language": "python",
   "name": "python3"
  },
  "language_info": {
   "codemirror_mode": {
    "name": "ipython",
    "version": 3
   },
   "file_extension": ".py",
   "mimetype": "text/x-python",
   "name": "python",
   "nbconvert_exporter": "python",
   "pygments_lexer": "ipython3",
   "version": "3.10.11"
  },
  "orig_nbformat": 4
 },
 "nbformat": 4,
 "nbformat_minor": 2
}
