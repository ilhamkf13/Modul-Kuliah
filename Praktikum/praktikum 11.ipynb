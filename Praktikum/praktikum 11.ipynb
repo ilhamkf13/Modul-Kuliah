{
 "cells": [
  {
   "cell_type": "code",
   "execution_count": 10,
   "metadata": {},
   "outputs": [
    {
     "name": "stdout",
     "output_type": "stream",
     "text": [
      "<=============== <Toko Aing> ==============>\n",
      "Nama\t\t\t\t:  Bolpoint\n",
      "Stok\t\t\t\t:  10\n",
      "Harga Satuan\t\t\t:  2000\n",
      "Harga\t\t\t\t:  20000\n",
      "\n",
      "\n",
      "Nama\t\t\t\t:  Pensil\n",
      "Stok\t\t\t\t:  10\n",
      "Harga Satuan\t\t\t:  1000\n",
      "Harga\t\t\t\t:  10000\n",
      "\n",
      "\n",
      "Nama\t\t\t\t:  Penghapus\n",
      "Stok\t\t\t\t:  10\n",
      "Harga Satuan\t\t\t:  500\n",
      "Harga\t\t\t\t:  5000\n",
      "\n",
      "\n",
      "<=============== <Restock Dulu Brayy> ==============>\n",
      "Jumlah setelah Restock\t\t:  20\n",
      "Harga setelah Restock\t\t:  40000\n"
     ]
    }
   ],
   "source": [
    "# Weekly Exercise 1\n",
    "class AlatTulis():\n",
    "    def __init__(self, nama, stok, hargasatuan):\n",
    "        self.nama = nama\n",
    "        self.stok = stok\n",
    "        self.hargasatuan = hargasatuan\n",
    "        self.harga = self.stok * self.hargasatuan\n",
    "        \n",
    "    def setnama(self, nama):\n",
    "        self.nama = nama\n",
    "        \n",
    "    def setstok(self,stok):\n",
    "        self.stok = stok\n",
    "        self.harga = self.hargasatuan * self.stok\n",
    "        \n",
    "    def sethargasatuan(self, hargasatuan):\n",
    "        self.hargasatuan = hargasatuan\n",
    "        self.harga = self.hargasatuan * self.stok\n",
    "\n",
    "    def getnama(self):\n",
    "        return self.nama\n",
    "    \n",
    "    def getstok(self):\n",
    "        return self.stok\n",
    "    \n",
    "    def gethargasatuan(self):\n",
    "        return self.hargasatuan\n",
    "    \n",
    "    def getharga(self):\n",
    "        return self.harga\n",
    "    \n",
    "bolpoint = AlatTulis(\"Bolpoint\", 10, 2000)\n",
    "pensil = AlatTulis(\"Pensil\", 10, 1000)\n",
    "penghapus = AlatTulis(\"Penghapus\", 10, 500)\n",
    "\n",
    "print(\"<=============== <Toko Aing> ==============>\")\n",
    "for x in (bolpoint, pensil, penghapus):\n",
    "    print(\"Nama\\t\\t\\t\\t: \",x.getnama())\n",
    "    print(\"Stok\\t\\t\\t\\t: \",x.getstok())\n",
    "    print(\"Harga Satuan\\t\\t\\t: \",x.gethargasatuan())\n",
    "    print(\"Harga\\t\\t\\t\\t: \",x.getharga())\n",
    "    print(\"\\n\")\n",
    "\n",
    "print(\"<=============== <Restock Dulu Brayy> ==============>\")\n",
    "bolpoint.setstok(20)\n",
    "print(\"Jumlah setelah Restock\\t\\t: \",bolpoint.getstok())\n",
    "print(\"Harga setelah Restock\\t\\t: \",bolpoint.getharga())\n",
    "    "
   ]
  }
 ],
 "metadata": {
  "kernelspec": {
   "display_name": "Python 3",
   "language": "python",
   "name": "python3"
  },
  "language_info": {
   "codemirror_mode": {
    "name": "ipython",
    "version": 3
   },
   "file_extension": ".py",
   "mimetype": "text/x-python",
   "name": "python",
   "nbconvert_exporter": "python",
   "pygments_lexer": "ipython3",
   "version": "3.10.11"
  }
 },
 "nbformat": 4,
 "nbformat_minor": 2
}
