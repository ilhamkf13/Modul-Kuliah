{
 "cells": [
  {
   "cell_type": "code",
   "execution_count": 1,
   "metadata": {},
   "outputs": [
    {
     "data": {
      "text/plain": [
       "'\\nList        : tipe data yang terdiri atau berisi beberapa elemen dengan urutan. \\nTuple       : tipe data yang terdiri atau berisi beberapa elemen dengan urutan, tetapi tidak boleh diubah (immutable).\\nSet         : tipe data yang terdiri atau berisi beberapa elemen tanpa urutan dan tidak mengandung duplikat.\\nDictionary  : tipe data yang digunakan untuk menyimpan kumpulan data yang terdiri dari pasangan kunci-nilai (key-value pair),\\n              di mana setiap kunci harus unik\\n\\n'"
      ]
     },
     "execution_count": 1,
     "metadata": {},
     "output_type": "execute_result"
    }
   ],
   "source": [
    "#Weekly Exercise 1\n",
    "#Sebutkan dan Jelaskan perbedaan dari list, tuple, set dan dictionary dalam phyton\n",
    "'''\n",
    "List        : tipe data yang terdiri atau berisi beberapa elemen dengan urutan. \n",
    "Tuple       : tipe data yang terdiri atau berisi beberapa elemen dengan urutan, tetapi tidak boleh diubah (immutable).\n",
    "Set         : tipe data yang terdiri atau berisi beberapa elemen tanpa urutan dan tidak mengandung duplikat.\n",
    "Dictionary  : tipe data yang digunakan untuk menyimpan kumpulan data yang terdiri dari pasangan kunci-nilai (key-value pair),\n",
    "              di mana setiap kunci harus unik\n",
    "\n",
    "'''"
   ]
  },
  {
   "cell_type": "code",
   "execution_count": 10,
   "metadata": {},
   "outputs": [
    {
     "name": "stdout",
     "output_type": "stream",
     "text": [
      "nama: Ilham Kukuh Febriyansyah\n",
      "rombel: 4\n",
      "tanggal lahir: 13 februari 2004\n",
      "HP: 087739165643\n",
      "alamat: Grabag\n",
      "hobi1: mancing\n",
      "hobi2: tidur\n"
     ]
    }
   ],
   "source": [
    "# Weekly Exercise 2\n",
    "mahasiswa = {\n",
    "    'nama' : 'Ilham Kukuh Febriyansyah',\n",
    "    'rombel' : '4',\n",
    "    'tanggal lahir' : '13 februari 2004',\n",
    "    'HP' : '087739165643',\n",
    "    'alamat' : 'Grabag',\n",
    "    'hobi' : {\n",
    "        'hobi1' : 'mancing',\n",
    "        'hobi2' : 'tidur'}\n",
    "}\n",
    "for i in mahasiswa:\n",
    "    if i == 'hobi':\n",
    "        for j in mahasiswa['hobi']:\n",
    "            print(f\"{j}: {mahasiswa[i][j]}\")\n",
    "    else:\n",
    "        print(f\"{i}: {mahasiswa[i]}\")\n"
   ]
  }
 ],
 "metadata": {
  "kernelspec": {
   "display_name": "Python 3",
   "language": "python",
   "name": "python3"
  },
  "language_info": {
   "codemirror_mode": {
    "name": "ipython",
    "version": 3
   },
   "file_extension": ".py",
   "mimetype": "text/x-python",
   "name": "python",
   "nbconvert_exporter": "python",
   "pygments_lexer": "ipython3",
   "version": "3.10.11"
  }
 },
 "nbformat": 4,
 "nbformat_minor": 2
}
