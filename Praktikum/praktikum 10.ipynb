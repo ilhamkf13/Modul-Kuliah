{
 "cells": [
  {
   "cell_type": "code",
   "execution_count": 1,
   "metadata": {},
   "outputs": [
    {
     "name": "stdout",
     "output_type": "stream",
     "text": [
      "Maaf, pilihan tidak tersedia. Silahkan pilih lagi.\n",
      "Maaf, pilihan tidak tersedia. Silahkan pilih lagi.\n",
      "input harus berupa bilangan bulat.\n",
      "input harus berupa bilangan bulat.\n",
      "Luas lingkaran adalah 452.16\n",
      "Terima kasih! Program selesai.\n"
     ]
    }
   ],
   "source": [
    "# Weekly Exercise 1\n",
    "import matematika\n",
    "\n",
    "def inputbilangan(prompt):\n",
    "    while True:\n",
    "        try:\n",
    "            nilai = int(input(prompt))\n",
    "            return nilai\n",
    "        except ValueError:\n",
    "            print(\"input harus berupa bilangan bulat.\")\n",
    "\n",
    "def main():\n",
    "    while True :\n",
    "        pilihan = input('Pilihan perhitungan: lingkaran/persegi panjang/segitiga/selesai? ')\n",
    "\n",
    "        if pilihan == 'selesai':\n",
    "            konfirmasi = input(\"Anda yakin ingin keluar dari program? (ya/tidak): \")\n",
    "            if konfirmasi == 'ya':\n",
    "                print(\"Terima kasih! Program selesai.\")\n",
    "                break\n",
    "        elif pilihan not in ['lingkaran','persegi panjang','segitiga']:\n",
    "            print(\"Maaf, pilihan tidak tersedia. Silahkan pilih lagi.\")\n",
    "            continue\n",
    "        \n",
    "        try: \n",
    "            if pilihan == 'lingkaran':\n",
    "                radius = inputbilangan(\"Masukkan radius = \")\n",
    "                luas = matematika.lingkaran(radius)\n",
    "            \n",
    "            elif pilihan == 'persegi panjang':\n",
    "                panjang = inputbilangan(\"Masukkan panjang = \")\n",
    "                lebar = inputbilangan(\"Masukkan lebar = \")\n",
    "                luas = matematika.persegipanjang(panjang,lebar)    \n",
    "                \n",
    "            elif pilihan == 'segitiga':\n",
    "                alas = inputbilangan(\"Masukkan alas = \")\n",
    "                tinggi = inputbilangan(\"Masukkan tinggi = \")\n",
    "                luas = matematika.segitiga(alas,tinggi)\n",
    "                \n",
    "            print(f\"Luas {pilihan} adalah {luas:.2f}\")\n",
    "            \n",
    "        except ValueError as ve:\n",
    "            print(str(ve))\n",
    "            print(\"Nilai tidak boleh kosong.\")\n",
    "            \n",
    "if __name__ == \"__main__\":\n",
    "    main()"
   ]
  },
  {
   "cell_type": "code",
   "execution_count": 7,
   "metadata": {},
   "outputs": [
    {
     "name": "stdout",
     "output_type": "stream",
     "text": [
      "Pilihan Kelas Kamar:\n",
      "1. Kelas 1 (Harga ruang inap Rp 800.000)\n",
      "2. Kelas 2 (Harga ruang inap Rp 500.000)\n",
      "3. Kelas 3 (Harga ruang inap Rp 200.000)\n",
      "Pilihan kelas kamar tidak valid\n"
     ]
    }
   ],
   "source": [
    "try :\n",
    "    namapasien = input(\"Masukkan nama pasien: \")\n",
    "    alamatpasien = input(\"Masukkan alamat pasien: \")\n",
    "    keanggotaanbpjs = input(\"Apakah pasien memiliki keanggotaan BPJS Kesehatan? (Y/N): \")\n",
    "    lamainap = int(input(\"Masukkan lama inap (hari): \"))\n",
    "\n",
    "    print(\"Pilihan Kelas Kamar:\")\n",
    "    print(\"1. Kelas 1 (Harga ruang inap Rp 800.000)\")\n",
    "    print(\"2. Kelas 2 (Harga ruang inap Rp 500.000)\")\n",
    "    print(\"3. Kelas 3 (Harga ruang inap Rp 200.000)\")\n",
    "\n",
    "    kelaskamar = int(input(\"Masukkan pilihan jenis kamar (1/2/3): \"))\n",
    "\n",
    "    harga_kamar = {1: 800000, 2: 500000, 3: 200000}\n",
    "\n",
    "    if kelaskamar not in harga_kamar:\n",
    "        raise ValueError(\"Pilihan kelas kamar tidak valid\")\n",
    "\n",
    "    harga = harga_kamar[kelaskamar]\n",
    "    if keanggotaanbpjs.upper() == \"Y\" :\n",
    "        potonganharga = 0.15 * harga \n",
    "    else : \n",
    "        potonganharga = 0\n",
    "    totalbiaya = (harga - potonganharga) * lamainap\n",
    "\n",
    "    print(\"===== Data Pembayaran =====\")\n",
    "    print(\"Nama Pasien:\", namapasien)\n",
    "    print(\"Alamat Pasien:\", alamatpasien)\n",
    "    print(\"Lama Inap :\", lamainap, \"hari\")\n",
    "    print(\"Jenis Kamar:\", kelaskamar)\n",
    "    print(\"Harga Ruang Inap per Hari: Rp\", harga)\n",
    "    print(\"Keanggotaan BPJS Kesehatan:\", keanggotaanbpjs)\n",
    "    print(\"Potongan Harga BPJS Kesehatan: Rp\", potonganharga)\n",
    "    print(\"Total Biaya yang Harus Dibayarkan: Rp\", totalbiaya)\n",
    "\n",
    "except ValueError as ve:\n",
    "    print(f\"{ve}\")\n",
    "except Exception as e:\n",
    "    print(f\"{e}\")"
   ]
  }
 ],
 "metadata": {
  "kernelspec": {
   "display_name": "Python 3",
   "language": "python",
   "name": "python3"
  },
  "language_info": {
   "codemirror_mode": {
    "name": "ipython",
    "version": 3
   },
   "file_extension": ".py",
   "mimetype": "text/x-python",
   "name": "python",
   "nbconvert_exporter": "python",
   "pygments_lexer": "ipython3",
   "version": "3.10.11"
  }
 },
 "nbformat": 4,
 "nbformat_minor": 2
}
