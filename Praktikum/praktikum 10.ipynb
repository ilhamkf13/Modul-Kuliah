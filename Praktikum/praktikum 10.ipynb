{
 "cells": [
  {
   "cell_type": "code",
   "execution_count": 1,
   "metadata": {},
   "outputs": [
    {
     "name": "stdout",
     "output_type": "stream",
     "text": [
      "5! = 120\n"
     ]
    }
   ],
   "source": [
    "# Weekly Exercise 1\n",
    "def faktorial(n):\n",
    "    if n == 1:\n",
    "        return 1\n",
    "    else :\n",
    "        return n * faktorial(n-1)\n",
    "    \n",
    "s = int(input(\"masukkan nilai =\"))\n",
    "print (f\"{s}! = {faktorial(s)}\")"
   ]
  },
  {
   "cell_type": "code",
   "execution_count": 2,
   "metadata": {},
   "outputs": [
    {
     "name": "stdout",
     "output_type": "stream",
     "text": [
      "Luas lingkaran adalah 1384.74\n",
      "Terima kasih! Program selesai.\n"
     ]
    }
   ],
   "source": [
    "def circle(r):\n",
    "    return 3.14 * r * r\n",
    "\n",
    "def square(s):\n",
    "    return s * s\n",
    "\n",
    "def triangle(a,t):\n",
    "    return a * t / 2\n",
    "\n",
    "while True:\n",
    "    pilihan = input('Pilihan perhitungan: lingkaran/persegi/segitiga/selesai? ')\n",
    "\n",
    "    if pilihan == 'lingkaran':\n",
    "        r = float(input('Masukkan jari-jari lingkaran: '))\n",
    "        print(\"Luas lingkaran adalah\", circle(r))\n",
    "\n",
    "    elif pilihan == 'persegi':\n",
    "        s = float(input('Masukkan panjang sisi persegi: '))\n",
    "        print(\"Luas persegi adalah\", square(s))\n",
    "\n",
    "    elif pilihan == 'segitiga':\n",
    "        a = float(input('Masukkan panjang alas segitiga: '))\n",
    "        t = float(input('Masukkan tinggi segitiga: '))\n",
    "        print(\"Luas segitiga adalah\", triangle(a, t))\n",
    "\n",
    "    elif pilihan == 'selesai':\n",
    "        konfirmasi = input(\"Anda yakin ingin keluar dari program? (ya/tidak): \")\n",
    "        if konfirmasi == 'ya':\n",
    "            print(\"Terima kasih! Program selesai.\")\n",
    "            break\n",
    "        else:\n",
    "            continue\n",
    "\n",
    "    else:\n",
    "        print(\"Pilihan tidak valid. Silakan pilih lingkaran, persegi, segitiga, atau selesai.\")"
   ]
  }
 ],
 "metadata": {
  "kernelspec": {
   "display_name": "Python 3",
   "language": "python",
   "name": "python3"
  },
  "language_info": {
   "codemirror_mode": {
    "name": "ipython",
    "version": 3
   },
   "file_extension": ".py",
   "mimetype": "text/x-python",
   "name": "python",
   "nbconvert_exporter": "python",
   "pygments_lexer": "ipython3",
   "version": "3.10.11"
  }
 },
 "nbformat": 4,
 "nbformat_minor": 2
}
