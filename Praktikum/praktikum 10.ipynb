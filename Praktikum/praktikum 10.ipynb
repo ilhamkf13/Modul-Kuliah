{
 "cells": [
  {
   "cell_type": "code",
   "execution_count": 49,
   "metadata": {},
   "outputs": [
    {
     "name": "stdout",
     "output_type": "stream",
     "text": [
      "Maaf, pilihan tidak tersedia. Silahkan pilih lagi.\n",
      "Luas lingkaran adalah 113.04\n",
      "Terima kasih! Program selesai.\n"
     ]
    }
   ],
   "source": [
    "# Weekly Exercise 1\n",
    "import matematika\n",
    "\n",
    "def inputbilangan(prompt):\n",
    "    while True:\n",
    "        try:\n",
    "            nilai = int(input(prompt))\n",
    "            return nilai\n",
    "        except ValueError:\n",
    "            print(\"input harus berupa bilangan bulat.\")\n",
    "\n",
    "def main():\n",
    "    while True :\n",
    "        pilihan = input('Pilihan perhitungan: lingkaran/persegi panjang/segitiga/selesai? ')\n",
    "\n",
    "        if pilihan == 'selesai':\n",
    "            konfirmasi = input(\"Anda yakin ingin keluar dari program? (ya/tidak): \")\n",
    "            if konfirmasi == 'ya':\n",
    "                print(\"Terima kasih! Program selesai.\")\n",
    "                break\n",
    "        elif pilihan not in ['lingkaran','persegi panjang','segitiga']:\n",
    "            print(\"Maaf, pilihan tidak tersedia. Silahkan pilih lagi.\")\n",
    "            continue\n",
    "        \n",
    "        try: \n",
    "            if pilihan == 'lingkaran':\n",
    "                radius = inputbilangan(\"Masukkan radius = \")\n",
    "                luas = matematika.lingkaran(radius)\n",
    "            \n",
    "            elif pilihan == 'persegi panjang':\n",
    "                panjang = inputbilangan(\"Masukkan panjang = \")\n",
    "                lebar = inputbilangan(\"Masukkan lebar = \")\n",
    "                luas = matematika.persegipanjang(panjang,lebar)    \n",
    "                \n",
    "            elif pilihan == 'segitiga':\n",
    "                alas = inputbilangan(\"Masukkan alas = \")\n",
    "                tinggi = inputbilangan(\"Masukkan tinggi = \")\n",
    "                luas = matematika.segitiga(alas,tinggi)\n",
    "                \n",
    "            print(f\"Luas {pilihan} adalah {luas:.2f}\")\n",
    "            \n",
    "        except ValueError as ve:\n",
    "            print(str(ve))\n",
    "            print(\"Nilai tidak boleh kosong.\")\n",
    "            \n",
    "if __name__ == \"__main__\":\n",
    "    main()"
   ]
  }
 ],
 "metadata": {
  "language_info": {
   "name": "python"
  }
 },
 "nbformat": 4,
 "nbformat_minor": 2
}
