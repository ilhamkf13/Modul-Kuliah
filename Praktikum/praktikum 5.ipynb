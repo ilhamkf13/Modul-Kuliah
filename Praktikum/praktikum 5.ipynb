{
 "cells": [
  {
   "cell_type": "code",
   "execution_count": 6,
   "metadata": {},
   "outputs": [
    {
     "name": "stdout",
     "output_type": "stream",
     "text": [
      "Tahun 3034 bukanlah Tahun Kabisat \n"
     ]
    }
   ],
   "source": [
    "# Weekly Exercise 1\n",
    "tahun = int(input(\"Masukkan tahun : \"))\n",
    "\n",
    "if tahun % 4 == 0:\n",
    "    print (\"Tahun {} adalah Tahun Kabisat\".format (tahun))\n",
    "else:\n",
    "    print (\"Tahun {} bukanlah Tahun Kabisat \".format (tahun))"
   ]
  },
  {
   "cell_type": "code",
   "execution_count": 7,
   "metadata": {},
   "outputs": [
    {
     "name": "stdout",
     "output_type": "stream",
     "text": [
      "Dari bilangan : 3 , 5 , 7\n",
      "Bilangan terbesar adalah 7\n"
     ]
    }
   ],
   "source": [
    "# Weekly Exercise 2\n",
    "x = int(input(\"Masukkan bilangan pertama : \"))\n",
    "y = int(input(\"Masukkan bilangan kedua : \"))\n",
    "z = int(input(\"Masukkan bilangan ketiga : \"))\n",
    "print (f\"Dari bilangan : {x} , {y} , {z}\") \n",
    "if x > y and x > z :\n",
    "    print (\"Bilangan terbesar adalah\", x)\n",
    "elif x < y and y > z :\n",
    "    print (\"Bilangan terbesar adalah\", y)\n",
    "elif z > x and z > y :\n",
    "    print (\"Bilangan terbesar adalah\", z)\n",
    "   \n",
    "\n",
    "    "
   ]
  },
  {
   "cell_type": "code",
   "execution_count": 15,
   "metadata": {},
   "outputs": [
    {
     "name": "stdout",
     "output_type": "stream",
     "text": [
      "Total yang harus dibayarkan: Rp470000.00\n"
     ]
    }
   ],
   "source": [
    "# Weekly Exercise 3\n",
    "jenis = (input(\"Jenis konsumen = \"))\n",
    "belanja = float(input(\"Total Belanja = \"))\n",
    "diskon = 0\n",
    "\n",
    "if belanja > 200000 :\n",
    "    diskon = 0.04\n",
    "elif belanja > 100000 :\n",
    "    diskon = 0.03\n",
    "\n",
    "if jenis == \"member\" :\n",
    "    diskon += 0.02\n",
    "elif jenis != \"member\" :\n",
    "    diskon += 0\n",
    "\n",
    "totalbelanja = belanja - belanja*diskon\n",
    "\n",
    "print(f\"Total yang harus dibayarkan: Rp{totalbelanja:.2f}\")"
   ]
  },
  {
   "cell_type": "code",
   "execution_count": 17,
   "metadata": {},
   "outputs": [
    {
     "name": "stdout",
     "output_type": "stream",
     "text": [
      "Akun berhasil dibuat\n",
      "mbek13\n",
      "shadowshuts01@gmail.com\n",
      "oalahgitu\n"
     ]
    }
   ],
   "source": [
    "# Weekly Exercise 4\n",
    "username = input(\"Masukkan username anda = \")\n",
    "email = input(\"Masukkan email anda = \")\n",
    "password = input(\"Masukkan password anda = \")\n",
    "\n",
    "if len(username) == 0 :\n",
    "    print(\"Username harus diisi!\")\n",
    "elif \"@\" not in email :\n",
    "    print (\"Alamat email tidak valid\")\n",
    "elif len(password) <= 8 :\n",
    "    print('Password tidak boleh kurang dari 8 karakter')\n",
    "else :\n",
    "    print(\"Akun berhasil dibuat\")\n",
    "    print(\"Username = \",username)\n",
    "    print(\"Email = \",email)"
   ]
  }
 ],
 "metadata": {
  "kernelspec": {
   "display_name": "Python 3",
   "language": "python",
   "name": "python3"
  },
  "language_info": {
   "codemirror_mode": {
    "name": "ipython",
    "version": 3
   },
   "file_extension": ".py",
   "mimetype": "text/x-python",
   "name": "python",
   "nbconvert_exporter": "python",
   "pygments_lexer": "ipython3",
   "version": "3.10.11"
  },
  "orig_nbformat": 4
 },
 "nbformat": 4,
 "nbformat_minor": 2
}
