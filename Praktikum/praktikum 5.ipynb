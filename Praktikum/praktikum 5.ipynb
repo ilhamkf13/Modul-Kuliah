{
 "cells": [
  {
   "cell_type": "code",
   "execution_count": 6,
   "metadata": {},
   "outputs": [
    {
     "name": "stdout",
     "output_type": "stream",
     "text": [
      "Tahun 3034 bukanlah Tahun Kabisat \n"
     ]
    }
   ],
   "source": [
    "# Weekly Exercise 1\n",
    "tahun = int(input(\"Masukkan tahun : \"))\n",
    "\n",
    "if tahun % 4 == 0:\n",
    "    print (\"Tahun {} adalah Tahun Kabisat\".format (tahun))\n",
    "else:\n",
    "    print (\"Tahun {} bukanlah Tahun Kabisat \".format (tahun))"
   ]
  },
  {
   "cell_type": "code",
   "execution_count": null,
   "metadata": {},
   "outputs": [],
   "source": [
    "# Weekly Exercise 2\n",
    "x = int(input(\"Masukkan bilangan pertama : \"))\n",
    "y = int(input(\"Masukkan bilangan kedua : \"))\n",
    "z = int(input(\"Masukkan bilangan ketiga : \"))\n",
    "\n",
    "if "
   ]
  }
 ],
 "metadata": {
  "kernelspec": {
   "display_name": "Python 3",
   "language": "python",
   "name": "python3"
  },
  "language_info": {
   "codemirror_mode": {
    "name": "ipython",
    "version": 3
   },
   "file_extension": ".py",
   "mimetype": "text/x-python",
   "name": "python",
   "nbconvert_exporter": "python",
   "pygments_lexer": "ipython3",
   "version": "3.10.11"
  },
  "orig_nbformat": 4
 },
 "nbformat": 4,
 "nbformat_minor": 2
}
