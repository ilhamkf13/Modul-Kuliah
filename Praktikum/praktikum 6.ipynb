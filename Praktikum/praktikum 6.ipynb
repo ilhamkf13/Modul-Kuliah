{
 "cells": [
  {
   "cell_type": "code",
   "execution_count": 17,
   "metadata": {},
   "outputs": [
    {
     "name": "stdout",
     "output_type": "stream",
     "text": [
      "  * \n",
      " * * \n",
      "* * * \n"
     ]
    }
   ],
   "source": [
    "Tinggi = int(input('masukkan tinggi segitiga * = '))\n",
    "\n",
    "for i in range(1, Tinggi + 1):\n",
    "    for s in range(Tinggi - i):\n",
    "        print (' ',end='')\n",
    "    for s in range(i * 2):\n",
    "        if s % 2 == 0 : \n",
    "            print  ('* ',end='') \n",
    "    print()"
   ]
  },
  {
   "cell_type": "code",
   "execution_count": 33,
   "metadata": {},
   "outputs": [
    {
     "name": "stdout",
     "output_type": "stream",
     "text": [
      "      1\n",
      "     1 1\n",
      "    1 2 1\n",
      "   1 3 3 1\n",
      "  1 4 6 4 1\n"
     ]
    }
   ],
   "source": [
    "Tinggi = int(input('masukkan tinggi segitiga * = '))\n",
    "i = Tinggi + 1\n",
    "for i in range(1, Tinggi + 1):\n",
    "    for s in range(0,Tinggi - i + 1):\n",
    "        print (' ',end='')\n",
    "        C = 1\n",
    "    for s in range(1, i + 1):\n",
    "        print  (' ', C,sep='',end='')\n",
    "        C = C * (i - s)//s \n",
    "    print()"
   ]
  }
 ],
 "metadata": {
  "kernelspec": {
   "display_name": "Python 3",
   "language": "python",
   "name": "python3"
  },
  "language_info": {
   "codemirror_mode": {
    "name": "ipython",
    "version": 3
   },
   "file_extension": ".py",
   "mimetype": "text/x-python",
   "name": "python",
   "nbconvert_exporter": "python",
   "pygments_lexer": "ipython3",
   "version": "3.10.11"
  },
  "orig_nbformat": 4
 },
 "nbformat": 4,
 "nbformat_minor": 2
}
