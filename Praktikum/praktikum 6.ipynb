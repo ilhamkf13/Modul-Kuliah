{
 "cells": [
  {
   "cell_type": "code",
   "execution_count": 4,
   "metadata": {},
   "outputs": [
    {
     "name": "stdout",
     "output_type": "stream",
     "text": [
      "    * \n",
      "   * * \n",
      "  * * * \n",
      " * * * * \n",
      "* * * * * \n"
     ]
    }
   ],
   "source": [
    "# Weekkly Exercise 1\n",
    "Tinggi = int(input('masukkan tinggi segitiga * = '))\n",
    "\n",
    "for i in range(1, Tinggi + 1):\n",
    "    for s in range(Tinggi - i):\n",
    "        print (' ',end='')\n",
    "    for s in range(i * 2):\n",
    "        if s % 2 == 0 : \n",
    "            print  ('* ',end='') \n",
    "    print()"
   ]
  },
  {
   "cell_type": "code",
   "execution_count": 2,
   "metadata": {},
   "outputs": [
    {
     "name": "stdout",
     "output_type": "stream",
     "text": [
      "      1\n",
      "     1 1\n",
      "    1 2 1\n",
      "   1 3 3 1\n",
      "  1 4 6 4 1\n"
     ]
    }
   ],
   "source": [
    "# Weekly Exercise 2\n",
    "Tinggi = int(input('masukkan tinggi segitiga bilangan = '))\n",
    "i = Tinggi + 1\n",
    "for i in range(1, Tinggi + 1):\n",
    "    for s in range(0,Tinggi - i + 1):\n",
    "        print (' ',end='')\n",
    "        C = 1\n",
    "    for s in range(1, i + 1):\n",
    "        print  (' ', C,sep='',end='')\n",
    "        C = C * (i - s)//s \n",
    "    print()"
   ]
  },
  {
   "cell_type": "code",
   "execution_count": 2,
   "metadata": {},
   "outputs": [
    {
     "name": "stdout",
     "output_type": "stream",
     "text": [
      "Jumlah baris harus lebih besar dari 0\n"
     ]
    }
   ],
   "source": [
    "n = int(input(\"Masukkan jumlah baris untuk segitiga Pascal: \"))\n",
    "if n < 1:\n",
    "    print(\"Jumlah baris harus lebih besar dari 0\")\n",
    "else:\n",
    "    pascal = []\n",
    "\n",
    "    for i in range(n):\n",
    "        row = [1 if j == 0 or j == i \n",
    "               else pascal[i - 1][j - 1] + pascal[i - 1][j] \n",
    "               for j in range(i + 1)]\n",
    "        pascal.append(row)\n",
    "    \n",
    "    if n > 0:\n",
    "        row_sum = sum(pascal[-1])\n",
    "        print(f\"Jumlah angka dalam baris ke {n} segitiga Pascal adalah: {row_sum}\")\n"
   ]
  }
 ],
 "metadata": {
  "kernelspec": {
   "display_name": "Python 3",
   "language": "python",
   "name": "python3"
  },
  "language_info": {
   "codemirror_mode": {
    "name": "ipython",
    "version": 3
   },
   "file_extension": ".py",
   "mimetype": "text/x-python",
   "name": "python",
   "nbconvert_exporter": "python",
   "pygments_lexer": "ipython3",
   "version": "3.10.11"
  },
  "orig_nbformat": 4
 },
 "nbformat": 4,
 "nbformat_minor": 2
}
