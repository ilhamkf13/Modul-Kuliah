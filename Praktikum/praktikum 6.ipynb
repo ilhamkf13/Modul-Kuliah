{
 "cells": [
  {
   "cell_type": "code",
   "execution_count": 4,
   "metadata": {},
   "outputs": [
    {
     "name": "stdout",
     "output_type": "stream",
     "text": [
      "    * \n",
      "   * * \n",
      "  * * * \n",
      " * * * * \n",
      "* * * * * \n"
     ]
    }
   ],
   "source": [
    "# Weekkly Exercise 1\n",
    "Tinggi = int(input('masukkan tinggi segitiga * = '))\n",
    "\n",
    "for i in range(1, Tinggi + 1):\n",
    "    for s in range(Tinggi - i):\n",
    "        print (' ',end='')\n",
    "    for s in range(i * 2):\n",
    "        if s % 2 == 0 : \n",
    "            print  ('* ',end='') \n",
    "    print()"
   ]
  },
  {
   "cell_type": "code",
   "execution_count": 2,
   "metadata": {},
   "outputs": [
    {
     "name": "stdout",
     "output_type": "stream",
     "text": [
      "      1\n",
      "     1 1\n",
      "    1 2 1\n",
      "   1 3 3 1\n",
      "  1 4 6 4 1\n"
     ]
    }
   ],
   "source": [
    "# Weekly Exercise 2\n",
    "Tinggi = int(input('masukkan tinggi segitiga bilangan = '))\n",
    "i = Tinggi + 1\n",
    "for i in range(1, Tinggi + 1):\n",
    "    for s in range(0,Tinggi - i + 1):\n",
    "        print (' ',end='')\n",
    "        C = 1\n",
    "    for s in range(1, i + 1):\n",
    "        print  (' ', C,sep='',end='')\n",
    "        C = C * (i - s)//s \n",
    "    print()"
   ]
  },
  {
   "cell_type": "code",
   "execution_count": 1,
   "metadata": {},
   "outputs": [
    {
     "name": "stdout",
     "output_type": "stream",
     "text": [
      "Jumlah angka dalam baris ke 5 segitiga Pascal adalah: 16\n"
     ]
    }
   ],
   "source": [
    "# Weekly Exercise 3\n",
    "n = int(input(\"Masukkan jumlah baris untuk segitiga Pascal: \"))\n",
    "if n < 1:\n",
    "    print(\"Jumlah baris harus lebih besar dari 0\")\n",
    "else:\n",
    "    pascal = []\n",
    "\n",
    "    for i in range(n):\n",
    "        row = [1 if s == 0 or s == i \n",
    "               else pascal[i - 1][s - 1] + pascal[i - 1][s] \n",
    "               for s in range(i + 1)]\n",
    "        pascal.append(row)\n",
    "    \n",
    "    if n > 0:\n",
    "        row_sum = sum(pascal[-1])\n",
    "        print(f\"Jumlah angka dalam baris ke {n} segitiga Pascal adalah: {row_sum}\")\n"
   ]
  },
  {
   "cell_type": "code",
   "execution_count": 2,
   "metadata": {},
   "outputs": [
    {
     "name": "stdout",
     "output_type": "stream",
     "text": [
      "-5\n",
      "-4\n",
      "-3\n",
      "-2\n",
      "-1\n",
      "0\n",
      "1\n",
      "2\n",
      "3\n",
      "4\n",
      "5\n"
     ]
    }
   ],
   "source": [
    "# Quiz 1 Week 6\n",
    "for i in range (-5, 6):\n",
    "    print(i)"
   ]
  },
  {
   "cell_type": "code",
   "execution_count": 3,
   "metadata": {},
   "outputs": [
    {
     "name": "stdout",
     "output_type": "stream",
     "text": [
      "rock\n",
      "R&B\n",
      "Soundtrack\n",
      "R&B\n",
      "soul\n",
      "pop\n"
     ]
    }
   ],
   "source": [
    "# Quiz 2 Week 6\n",
    "Genres=['rock', 'R&B', 'Soundtrack', 'R&B', 'soul', 'pop']\n",
    "for Genre in Genres :\n",
    "    print(Genre)"
   ]
  },
  {
   "cell_type": "code",
   "execution_count": 4,
   "metadata": {},
   "outputs": [
    {
     "name": "stdout",
     "output_type": "stream",
     "text": [
      "red\n",
      "yellow\n",
      "green\n",
      "purple\n",
      "blue\n"
     ]
    }
   ],
   "source": [
    "# Quiz 3 Week 6\n",
    "squares=['red','yellow','green','purple','blue']\n",
    "for square in squares:\n",
    "    print(square)"
   ]
  },
  {
   "cell_type": "code",
   "execution_count": 5,
   "metadata": {},
   "outputs": [
    {
     "name": "stdout",
     "output_type": "stream",
     "text": [
      "10\n",
      "9.5\n",
      "10\n",
      "8\n",
      "7.5\n"
     ]
    }
   ],
   "source": [
    "# Quiz 4 Week 6\n",
    "PlayListRatings = [10, 9.5, 10, 8, 7.5, 5, 10, 10]\n",
    "i = 1\n",
    "Rating = PlayListRatings[0]\n",
    "while(Rating >= 6):\n",
    "    print(Rating)\n",
    "    Rating = PlayListRatings[i]\n",
    "    i += 1"
   ]
  },
  {
   "cell_type": "code",
   "execution_count": 6,
   "metadata": {},
   "outputs": [
    {
     "name": "stdout",
     "output_type": "stream",
     "text": [
      "['orange', 'orange']\n"
     ]
    }
   ],
   "source": [
    "# Quiz 5 Weekly 6\n",
    "squares = ['orange', 'orange', 'purple', 'blue ', 'orange']\n",
    "new_squares = []\n",
    "i = 0\n",
    "while(squares[i] == 'orange'):\n",
    "    new_squares.append(squares[i])\n",
    "    i += 1  \n",
    "print (new_squares)"
   ]
  }
 ],
 "metadata": {
  "kernelspec": {
   "display_name": "Python 3",
   "language": "python",
   "name": "python3"
  },
  "language_info": {
   "codemirror_mode": {
    "name": "ipython",
    "version": 3
   },
   "file_extension": ".py",
   "mimetype": "text/x-python",
   "name": "python",
   "nbconvert_exporter": "python",
   "pygments_lexer": "ipython3",
   "version": "3.10.11"
  },
  "orig_nbformat": 4
 },
 "nbformat": 4,
 "nbformat_minor": 2
}
