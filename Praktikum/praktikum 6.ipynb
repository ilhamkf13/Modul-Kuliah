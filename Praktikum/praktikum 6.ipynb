{
 "cells": [
  {
   "cell_type": "code",
   "execution_count": 17,
   "metadata": {},
   "outputs": [
    {
     "name": "stdout",
     "output_type": "stream",
     "text": [
      "  * \n",
      " * * \n",
      "* * * \n"
     ]
    }
   ],
   "source": [
    "# Weekkly Exercise 1\n",
    "Tinggi = int(input('masukkan tinggi segitiga * = '))\n",
    "\n",
    "for i in range(1, Tinggi + 1):\n",
    "    for s in range(Tinggi - i):\n",
    "        print (' ',end='')\n",
    "    for s in range(i * 2):\n",
    "        if s % 2 == 0 : \n",
    "            print  ('* ',end='') \n",
    "    print()"
   ]
  },
  {
   "cell_type": "code",
   "execution_count": 2,
   "metadata": {},
   "outputs": [
    {
     "name": "stdout",
     "output_type": "stream",
     "text": [
      "      1\n",
      "     1 1\n",
      "    1 2 1\n",
      "   1 3 3 1\n",
      "  1 4 6 4 1\n"
     ]
    }
   ],
   "source": [
    "# Weekly Exercise 2\n",
    "Tinggi = int(input('masukkan tinggi segitiga bilangan = '))\n",
    "i = Tinggi + 1\n",
    "for i in range(1, Tinggi + 1):\n",
    "    for s in range(0,Tinggi - i + 1):\n",
    "        print (' ',end='')\n",
    "        C = 1\n",
    "    for s in range(1, i + 1):\n",
    "        print  (' ', C,sep='',end='')\n",
    "        C = C * (i - s)//s \n",
    "    print()"
   ]
  },
  {
   "cell_type": "code",
   "execution_count": 16,
   "metadata": {},
   "outputs": [
    {
     "name": "stdout",
     "output_type": "stream",
     "text": [
      "Jumlah angka dalam baris ke 3 segitiga Pascal adalah: 4\n"
     ]
    }
   ],
   "source": [
    "# Weekly Exercise 3\n",
    "try:\n",
    "    n = int(input(\"Masukkan jumlah baris untuk segitiga Pascal: \"))\n",
    "    if n < 1:\n",
    "        raise ValueError(\"Jumlah baris harus lebih besar dari 0\")\n",
    "\n",
    "    pascal_triangle = []\n",
    "\n",
    "    for i in range(n):\n",
    "        row = []\n",
    "        for j in range(i + 1):\n",
    "            if j == 0 or j == i:\n",
    "                row.append(1)\n",
    "            else:\n",
    "                row.append(pascal_triangle[i - 1][j - 1] + pascal_triangle[i - 1][j])\n",
    "        pascal_triangle.append(row)\n",
    "    \n",
    "    row_sum = sum(pascal_triangle[n - 1])  # Menghitung jumlah angka dalam baris terakhir\n",
    "\n",
    "    print(f\"Jumlah angka dalam baris ke\",n,\"segitiga Pascal adalah:\", row_sum)\n",
    "\n",
    "except ValueError as e:\n",
    "    print(f\"Terjadi kesalahan: {e}\")\n",
    "\n",
    "    \n",
    "\n"
   ]
  }
 ],
 "metadata": {
  "kernelspec": {
   "display_name": "Python 3",
   "language": "python",
   "name": "python3"
  },
  "language_info": {
   "codemirror_mode": {
    "name": "ipython",
    "version": 3
   },
   "file_extension": ".py",
   "mimetype": "text/x-python",
   "name": "python",
   "nbconvert_exporter": "python",
   "pygments_lexer": "ipython3",
   "version": "3.10.11"
  },
  "orig_nbformat": 4
 },
 "nbformat": 4,
 "nbformat_minor": 2
}
