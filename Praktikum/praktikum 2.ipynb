{
 "cells": [
  {
   "cell_type": "code",
   "execution_count": 2,
   "metadata": {},
   "outputs": [
    {
     "name": "stdout",
     "output_type": "stream",
     "text": [
      "panjang =  20.5\n",
      "lebar =  25\n",
      "tinggi =  10\n",
      "keliling =  91.0\n",
      "luas 512.5\n",
      "volume =  5125.0\n"
     ]
    }
   ],
   "source": [
    "panjang =20.5\n",
    "lebar = 25\n",
    "tinggi = 10\n",
    "\n",
    "keliling = 2*(panjang+lebar)\n",
    "luas = panjang*lebar\n",
    "volume = panjang*lebar*tinggi\n",
    "\n",
    "print('panjang = ',panjang)\n",
    "print('lebar = ',lebar)\n",
    "print('tinggi = ',tinggi)\n",
    "print('keliling = ',keliling)\n",
    "print('luas', luas)\n",
    "print('volume = ',volume)"
   ]
  },
  {
   "cell_type": "code",
   "execution_count": 1,
   "metadata": {},
   "outputs": [
    {
     "name": "stdout",
     "output_type": "stream",
     "text": [
      "Rata-rata nilai Shafira pada kedua mata kuliah =  80.0\n",
      "Jumlah nilai Hanif dan Andi untuk semua mata kuliah =  310\n",
      "Rata-rata dari Widya, Dhanar, Hikma dan, Nedia adalah  86.25\n",
      "sementara untuk nilai Metode Statistika nya adalah  81.25\n",
      "Jumlah nilai mata kuliah Kalkulus 1 untuk semua mahasiswa =  730\n",
      "Jumlah nilai mata kuliah Metode Statistika untuk semua mahasiswa =  735\n"
     ]
    }
   ],
   "source": [
    "class N_mhs: #nilai mahasiswa\n",
    "    class K1: #kalkulus 1\n",
    "        Shafira = 85\n",
    "        Amanda = 80\n",
    "        Aditya = 75\n",
    "        Nedia  = 95\n",
    "        Widya = 85\n",
    "        Hanif = 75\n",
    "        Andi = 70\n",
    "        Dhanar = 85\n",
    "        Hikma = 80\n",
    "    class Ms: #metode statistika\n",
    "        Shafira = 75\n",
    "        Amanda = 90\n",
    "        Aditya = 80\n",
    "        Nedia = 80\n",
    "        Widya = 85\n",
    "        Hanif = 90\n",
    "        Andi = 75\n",
    "        Dhanar = 85\n",
    "        Hikma = 75\n",
    "\n",
    "rata1 = (N_mhs.K1.Shafira + N_mhs.Ms.Shafira)/2 #nomor 1\n",
    "jumlahnilaiHanif = N_mhs.K1.Hanif + N_mhs.Ms.Hanif#nomor 2\n",
    "jumlahnilaiAndi = N_mhs.K1.Andi + N_mhs.Ms.Andi\n",
    "jumlahnilai = jumlahnilaiHanif + jumlahnilaiAndi\n",
    "rata_K1 = (N_mhs.K1.Widya + N_mhs.K1.Dhanar + N_mhs.K1.Hikma + N_mhs.K1.Nedia)/4 #nomor 3\n",
    "rata_Ms = (N_mhs.Ms.Widya + N_mhs.Ms.Dhanar + N_mhs.Ms.Hikma + N_mhs.Ms.Nedia)/4\n",
    "jumlahK1 = sum([N_mhs.K1.Shafira, N_mhs.K1.Amanda, N_mhs.K1.Aditya, N_mhs.K1.Nedia, N_mhs.K1.Widya,\n",
    "                N_mhs.K1.Hanif, N_mhs.K1.Andi, N_mhs.K1.Dhanar, N_mhs.K1.Hikma]) # nomor 4\n",
    "jumlahMs = sum([N_mhs.Ms.Shafira, N_mhs.Ms.Amanda, N_mhs.Ms.Aditya, N_mhs.Ms.Nedia, N_mhs.Ms.Widya,\n",
    "                N_mhs.Ms.Hanif, N_mhs.Ms.Andi, N_mhs.Ms.Dhanar, N_mhs.Ms.Hikma])\n",
    "\n",
    "\n",
    "\n",
    "\n",
    "\n",
    "print('Rata-rata nilai Shafira pada kedua mata kuliah = ',rata1)\n",
    "print('Jumlah nilai Hanif dan Andi untuk semua mata kuliah = ',jumlahnilai)\n",
    "print('Rata-rata dari Widya, Dhanar, Hikma dan, Nedia adalah ',rata_K1)\n",
    "print('sementara untuk nilai Metode Statistika nya adalah ',rata_Ms)\n",
    "print('Jumlah nilai mata kuliah Kalkulus 1 untuk semua mahasiswa = ',jumlahK1)\n",
    "print('Jumlah nilai mata kuliah Metode Statistika untuk semua mahasiswa = ',jumlahMs)"
   ]
  },
  {
   "cell_type": "code",
   "execution_count": 1,
   "metadata": {},
   "outputs": [
    {
     "name": "stdout",
     "output_type": "stream",
     "text": [
      "1. Gaji pada bulan Agustus jika Dwi tidak masuk selama 3 hari: 6720000\n",
      "2. Tunjangan yang diterima oleh Dwi pada bulan Agustus: 672000.0\n",
      "3. Total gaji yang diterima Dwi pada bulan Agustus dengan lembur: 7442000.0\n"
     ]
    }
   ],
   "source": [
    "# Data\n",
    "tahun_bekerja = 10\n",
    "jam_kerja_per_hari = 8\n",
    "upah_per_jam = 30000\n",
    "upah_lembur_per_jam = 10000\n",
    "jumlah_hari_kerja = 31  # Anggap bulan Agustus memiliki 31 hari\n",
    "jumlah_hari_tidak_masuk = 3\n",
    "jam_lembur = 5\n",
    "\n",
    "# Menghitung gaji pada bulan Agustus jika Dwi tidak masuk selama beberapa hari\n",
    "gaji_harian = jam_kerja_per_hari * upah_per_jam\n",
    "gaji_tidak_masuk = jumlah_hari_tidak_masuk * gaji_harian\n",
    "gaji_bulan = (jumlah_hari_kerja - jumlah_hari_tidak_masuk) * gaji_harian\n",
    "\n",
    "# Menghitung tunjangan jika karyawan bekerja lebih dari 5 tahun\n",
    "if tahun_bekerja > 5:\n",
    "    tunjangan = 0.1 * gaji_bulan\n",
    "else:\n",
    "    tunjangan = 0\n",
    "\n",
    "# Menghitung total gaji dengan tunjangan\n",
    "total_gaji = gaji_bulan + tunjangan\n",
    "\n",
    "# Menghitung total gaji dengan lembur\n",
    "gaji_lembur = jam_lembur * upah_lembur_per_jam\n",
    "total_gaji_lembur = total_gaji + gaji_lembur\n",
    "\n",
    "# Menampilkan hasil\n",
    "print(\"1. Gaji pada bulan Agustus jika Dwi tidak masuk selama 3 hari:\", gaji_bulan)\n",
    "print(\"2. Tunjangan yang diterima oleh Dwi pada bulan Agustus:\", tunjangan)\n",
    "print(\"3. Total gaji yang diterima Dwi pada bulan Agustus dengan lembur:\", total_gaji_lembur)\n"
   ]
  }
 ],
 "metadata": {
  "kernelspec": {
   "display_name": "Python 3",
   "language": "python",
   "name": "python3"
  },
  "language_info": {
   "codemirror_mode": {
    "name": "ipython",
    "version": 3
   },
   "file_extension": ".py",
   "mimetype": "text/x-python",
   "name": "python",
   "nbconvert_exporter": "python",
   "pygments_lexer": "ipython3",
   "version": "3.10.11"
  },
  "orig_nbformat": 4
 },
 "nbformat": 4,
 "nbformat_minor": 2
}
