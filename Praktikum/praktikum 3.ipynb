{
 "cells": [
  {
   "cell_type": "code",
   "execution_count": 1,
   "metadata": {},
   "outputs": [
    {
     "name": "stdout",
     "output_type": "stream",
     "text": [
      "Nama    : Ilham Kukuh Febriyansyah\n",
      "Prodi   : Teknologi Informasi\n",
      "NPM     : 2320506043\n",
      "Alamat  : Delik Grabag Magelang\n",
      "Hobi    : Futsal\n",
      "Email   : kukuhilham01@gmail.com\n"
     ]
    }
   ],
   "source": [
    "file = open(r'C:/Users/lenovo/Documents/Cocding/Pertemuan3.txt')\n",
    "file_Content = file.read()\n",
    "print(file_Content)"
   ]
  },
  {
   "cell_type": "code",
   "execution_count": 7,
   "metadata": {},
   "outputs": [
    {
     "name": "stdout",
     "output_type": "stream",
     "text": [
      "Nama    : Ilham Kukuh Febriyansyah\n",
      "\n",
      "Prodi   : Teknologi Informasi\n",
      "\n",
      "Email   : kukuhilham01@gmail.com\n"
     ]
    }
   ],
   "source": [
    "file = open(r'C:/Users/lenovo/Documents/Cocding/Pertemuan3.txt')\n",
    "file_Lines = file.readlines()\n",
    "print(file_Lines[0])\n",
    "print(file_Lines[1])\n",
    "print(file_Lines[5])"
   ]
  },
  {
   "cell_type": "code",
   "execution_count": 8,
   "metadata": {},
   "outputs": [
    {
     "name": "stdout",
     "output_type": "stream",
     "text": [
      "file berhasil dibuat\n"
     ]
    }
   ],
   "source": [
    "with open('C:/Users/lenovo/Documents/Cocding/Pertemuan3.txt','r') as read_File :\n",
    "    with open('C:/Users/lenovo/Documents/Cocding/Pertemuan3b.txt','w') as write_File :\n",
    "        file_List = read_File.readlines()\n",
    "\n",
    "        write_File.writelines(file_List[0])\n",
    "        write_File.writelines(file_List[2])\n",
    "        write_File.writelines(file_List[1])\n",
    "        write_File.writelines(file_List[3])\n",
    "\n",
    "        print ('file berhasil dibuat')"
   ]
  },
  {
   "cell_type": "code",
   "execution_count": 3,
   "metadata": {},
   "outputs": [
    {
     "name": "stdout",
     "output_type": "stream",
     "text": [
      "Selamat datang di Toko Maju Jaya\n",
      "Senin, 4 September 2023       13.05\n",
      " \n",
      "DAFTAR BELANJA:\n",
      "Sabun  = Rp 10000\n",
      "Shampo  = Rp 15000\n",
      "Mie instant  = Rp 5000\n",
      "Detergen  = Rp 17500\n",
      " \n",
      "Total = Rp  47500\n"
     ]
    }
   ],
   "source": [
    "print (\"Selamat datang di Toko Maju Jaya\")\n",
    "print (\"Senin, 4 September 2023       13.05\")\n",
    "print(\" \")\n",
    "\n",
    "print (\"DAFTAR BELANJA:\")\n",
    "item1 = 'Sabun'\n",
    "item2 = 'Shampo'\n",
    "item3 = 'Mie instant'\n",
    "item4 = 'Detergen'\n",
    "harga1 = 10000\n",
    "harga2 = 15000\n",
    "harga3 = 5000\n",
    "harga4 = 17500\n",
    "\n",
    "total = harga1+harga2+harga3+harga4\n",
    "\n",
    "print(item1, ' = Rp',harga1)\n",
    "print(item2, ' = Rp',harga2)\n",
    "print(item3, ' = Rp',harga3)\n",
    "print(item4, ' = Rp',harga4)\n",
    "\n",
    "print(\" \")\n",
    "print(\"Total = Rp \",total)\n",
    "\n",
    "with open('C:/Users/lenovo/Documents/Cocding/kuitansi.txt', 'w') as writefile:\n",
    "        writefile.write(\"Selamat Datang di Toko Maju Jaya\\n\")\n",
    "        writefile.write(\" \\n\")\n",
    "        writefile.write(\"Kuitansi - 4 Septermber 2023\\n\")\n",
    "        writefile.write(\" \\n\")\n",
    "        writefile.write(item1+\" = Rp \"+str(harga1)+\"\\n\")\n",
    "        writefile.write(item2+\" = Rp \"+str(harga2)+\"\\n\")\n",
    "        writefile.write(item3+\" = Rp \"+str(harga3)+\"\\n\")\n",
    "        writefile.write(item4+\" = Rp \"+str(harga4)+\"\\n\")\n",
    "        writefile.write(\" \\n\")\n",
    "        writefile.write(\"Total Belanja =\"+str(total))"
   ]
  }
 ],
 "metadata": {
  "kernelspec": {
   "display_name": "Python 3",
   "language": "python",
   "name": "python3"
  },
  "language_info": {
   "codemirror_mode": {
    "name": "ipython",
    "version": 3
   },
   "file_extension": ".py",
   "mimetype": "text/x-python",
   "name": "python",
   "nbconvert_exporter": "python",
   "pygments_lexer": "ipython3",
   "version": "3.10.11"
  },
  "orig_nbformat": 4
 },
 "nbformat": 4,
 "nbformat_minor": 2
}
